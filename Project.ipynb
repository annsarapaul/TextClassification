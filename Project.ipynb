{
  "nbformat": 4,
  "nbformat_minor": 0,
  "metadata": {
    "colab": {
      "name": "Project.ipynb",
      "provenance": [],
      "collapsed_sections": [
        "y06HMGCFyADG",
        "JBYq9aqgAGLb",
        "rjwqnN_jTyV-"
      ],
      "mount_file_id": "1THKp2ILUbZYZEUpdRxSBvu3dMgxw5sVC",
      "authorship_tag": "ABX9TyMYabhhnJthCvWKfGRrI45T",
      "include_colab_link": true
    },
    "kernelspec": {
      "name": "python3",
      "display_name": "Python 3"
    },
    "accelerator": "GPU"
  },
  "cells": [
    {
      "cell_type": "markdown",
      "metadata": {
        "id": "view-in-github",
        "colab_type": "text"
      },
      "source": [
        "<a href=\"https://colab.research.google.com/github/annsarapaul/TextClassification/blob/main/Project.ipynb\" target=\"_parent\"><img src=\"https://colab.research.google.com/assets/colab-badge.svg\" alt=\"Open In Colab\"/></a>"
      ]
    },
    {
      "cell_type": "markdown",
      "metadata": {
        "id": "vRQylOsp0VGP"
      },
      "source": [
        "RNNs to do detect Sarcasms\n"
      ]
    },
    {
      "cell_type": "markdown",
      "metadata": {
        "id": "UGhw2SyFzAcT"
      },
      "source": [
        "Reference\n",
        "\n",
        "https://pytorch.org/tutorials/beginner/nlp/pytorch_tutorial.html#sphx-glr-beginner-nlp-pytorch-tutorial-py\n",
        "\n",
        "\n",
        "https://pytorch.org/tutorials/beginner/nlp/deep_learning_tutorial.html#sphx-glr-beginner-nlp-deep-learning-tutorial-py\n",
        "\n",
        "https://pytorch.org/tutorials/beginner/nlp/sequence_models_tutorial.html#sphx-glr-beginner-nlp-sequence-models-tutorial-py\n",
        "\n",
        "https://pytorch.org/tutorials/intermediate/char_rnn_classification_tutorial.html\n",
        "\n",
        "https://towardsdatascience.com/lstm-text-classification-using-pytorch-2c6c657f8fc0\n",
        "\n",
        "https://github.com/prakashpandey9/Text-Classification-Pytorch\n",
        "\n"
      ]
    },
    {
      "cell_type": "markdown",
      "metadata": {
        "id": "9KfzIeJcAd1c"
      },
      "source": [
        "I started with the code from https://github.com/prakashpandey9/Text-Classification-Pytorch after attempting to do some text pre-processing w/o libraries.\n",
        "\n",
        "\n"
      ]
    },
    {
      "cell_type": "code",
      "metadata": {
        "colab": {
          "base_uri": "https://localhost:8080/"
        },
        "id": "OwhXJ3NRxc4e",
        "outputId": "d79f6725-c799-4904-de8d-57e558ba01b6"
      },
      "source": [
        "cd /content/drive/MyDrive/NLP/Project/"
      ],
      "execution_count": 1,
      "outputs": [
        {
          "output_type": "stream",
          "text": [
            "/content/drive/MyDrive/NLP/Project\n"
          ],
          "name": "stdout"
        }
      ]
    },
    {
      "cell_type": "code",
      "metadata": {
        "colab": {
          "base_uri": "https://localhost:8080/"
        },
        "id": "Nes5HKrkx34S",
        "outputId": "6079d1d4-5e71-4fa2-e7af-658409483f41"
      },
      "source": [
        "ls"
      ],
      "execution_count": 2,
      "outputs": [
        {
          "output_type": "stream",
          "text": [
            " Project.ipynb          Sarcasm_Headlines_Dataset.json\n",
            "'Project Report.gdoc'   Sarcasm_Headlines_Dataset_v2.json\n"
          ],
          "name": "stdout"
        }
      ]
    },
    {
      "cell_type": "markdown",
      "metadata": {
        "id": "3pGePyLv_03p"
      },
      "source": [
        "# Classification Models\n"
      ]
    },
    {
      "cell_type": "markdown",
      "metadata": {
        "id": "wmo5H0qOjXL9"
      },
      "source": [
        "## Library"
      ]
    },
    {
      "cell_type": "code",
      "metadata": {
        "id": "FLuELf8y_82T"
      },
      "source": [
        "import os\n",
        "import time\n",
        "import torch\n",
        "import torch.nn.functional as F\n",
        "import torch.nn as nn\n",
        "from torch.autograd import Variable\n",
        "import torch.optim as optim\n",
        "import numpy as np\n",
        "import sys\n",
        "from torchtext import data\n",
        "from torchtext.vocab import Vectors, GloVe\n",
        "from sklearn import metrics \n",
        "from torch.nn.utils.rnn import pack_padded_sequence, pad_packed_sequence\n",
        "\n",
        "learning_rate = 2e-5\n",
        "batch_size = 32\n",
        "output_size = 2\n",
        "hidden_size = 256\n",
        "layer_size = 2\n",
        "embedding_length = 300\n",
        "sentence_size = 40"
      ],
      "execution_count": 3,
      "outputs": []
    },
    {
      "cell_type": "code",
      "metadata": {
        "id": "FrfWBYh3Gydc"
      },
      "source": [
        "#!pip3 install torchtext==0.2.3"
      ],
      "execution_count": 4,
      "outputs": []
    },
    {
      "cell_type": "markdown",
      "metadata": {
        "id": "LF1POJymjl5j"
      },
      "source": [
        "## Load Data"
      ]
    },
    {
      "cell_type": "code",
      "metadata": {
        "id": "GiT8FcoMCbhZ"
      },
      "source": [
        "def load_dataset(test_sen=None):\n",
        "\n",
        "    \"\"\"\n",
        "    tokenizer : Breaks sentences into a list of words. If sequential=False, no tokenization is applied\n",
        "    Field : A class that stores information about the way of preprocessing\n",
        "    fix_length : An important property of TorchText is that we can let the input to be variable length, and TorchText will\n",
        "                 dynamically pad each sequence to the longest sequence in that \"batch\". But here we are using fi_length which\n",
        "                 will pad each sequence to have a fix length of 200.\n",
        "                 \n",
        "    build_vocab : It will first make a vocabulary or dictionary mapping all the unique words present in the train_data to an\n",
        "                  idx and then after it will use GloVe word embedding to map the index to the corresponding word embedding.\n",
        "                  \n",
        "    vocab.vectors : This returns a torch tensor of shape (vocab_size x embedding_dim) containing the pre-trained word embeddings.\n",
        "    BucketIterator : Defines an iterator that batches examples of similar lengths together to minimize the amount of padding needed.\n",
        "    \n",
        "    \"\"\"\n",
        "    \n",
        "    tokenize = lambda x: x.split()\n",
        "    TEXT = data.Field(sequential=True, tokenize=tokenize, lower=True, include_lengths=True, batch_first=True, fix_length=sentence_size)\n",
        "    LABEL = data.LabelField(tensor_type=torch.FloatTensor)\n",
        "    raw_data = data.TabularDataset(path='Sarcasm_Headlines_Dataset.json', format = 'JSON',fields={'is_sarcastic': ('label', LABEL), 'headline': ('text', TEXT)})\n",
        "    train_data, val_data, test_data = raw_data.split(split_ratio=[0.7,0.2,0.1], stratified=True,strata_field='label')\n",
        "    #train_data, test_data = datasets.IMDB.splits(TEXT, LABEL)\n",
        "    TEXT.build_vocab(train_data, vectors=GloVe(name='6B', dim=embedding_length))\n",
        "    LABEL.build_vocab(train_data)\n",
        "\n",
        "    word_embeddings = TEXT.vocab.vectors\n",
        "    print (\"Length of Text Vocabulary: \" + str(len(TEXT.vocab)))\n",
        "    print (\"Vector size of Text Vocabulary: \", TEXT.vocab.vectors.size())\n",
        "    print (\"Label Length: \" + str(len(LABEL.vocab)))\n",
        "\n",
        "    #train_data, valid_data = train_data.split() # Further splitting of training_data to create new training_data & validation_data\n",
        "    train_iter, valid_iter, test_iter = data.BucketIterator.splits((train_data, val_data, test_data), batch_size=batch_size, sort_key=lambda x: len(x.text), repeat=False, shuffle=True)\n",
        "\n",
        "    vocab_size = len(TEXT.vocab)\n",
        "\n",
        "    return TEXT, vocab_size, word_embeddings, train_iter, valid_iter, test_iter\n"
      ],
      "execution_count": 5,
      "outputs": []
    },
    {
      "cell_type": "code",
      "metadata": {
        "colab": {
          "base_uri": "https://localhost:8080/"
        },
        "id": "kmEXauwZjGSA",
        "outputId": "4bf9ae7b-9351-419e-e491-5d25132bb442"
      },
      "source": [
        "#Load Dataset\n",
        "\n",
        "TEXT, vocab_size, word_embeddings, train_iter, valid_iter, test_iter = load_dataset()\n",
        "\n",
        "for x in train_iter:\n",
        "  print(x.text[0][0]) # Sample sentence, padded to 40 with 1s\n",
        "  print(x.text[1][0]) # Actual Length\n",
        "  break"
      ],
      "execution_count": 6,
      "outputs": [
        {
          "output_type": "stream",
          "text": [
            "Length of Text Vocabulary: 29824\n",
            "Vector size of Text Vocabulary:  torch.Size([29824, 300])\n",
            "Label Length: 2\n",
            "tensor([ 2402,  3841,   235,    61,    68, 24977,  5614,     1,     1,     1,\n",
            "            1,     1,     1,     1,     1,     1,     1,     1,     1,     1,\n",
            "            1,     1,     1,     1,     1,     1,     1,     1,     1,     1,\n",
            "            1,     1,     1,     1,     1,     1,     1,     1,     1,     1],\n",
            "       device='cuda:0')\n",
            "tensor(7, device='cuda:0')\n"
          ],
          "name": "stdout"
        }
      ]
    },
    {
      "cell_type": "code",
      "metadata": {
        "colab": {
          "base_uri": "https://localhost:8080/"
        },
        "id": "3hFhf01oL9je",
        "outputId": "5c23aac1-2503-4117-89d3-a84f8a0196a1"
      },
      "source": [
        "print(len(train_iter)*32)\n",
        "print(len(valid_iter)*32)\n",
        "print(len(test_iter)*32)"
      ],
      "execution_count": 19,
      "outputs": [
        {
          "output_type": "stream",
          "text": [
            "18720\n",
            "2688\n",
            "5344\n"
          ],
          "name": "stdout"
        }
      ]
    },
    {
      "cell_type": "markdown",
      "metadata": {
        "id": "pnMpVQ0bjSkF"
      },
      "source": [
        "## Models"
      ]
    },
    {
      "cell_type": "code",
      "metadata": {
        "id": "-vbXQyHMAFdV"
      },
      "source": [
        "\n",
        "class LSTMClassifier(nn.Module):\n",
        "\tdef __init__(self, batch_size, output_size, hidden_size, vocab_size, embedding_length, weights):\n",
        "\t\tsuper(LSTMClassifier, self).__init__()\n",
        "\t\t\n",
        "\t\t\"\"\"\n",
        "\t\tArguments\n",
        "\t\t---------\n",
        "\t\tbatch_size : Size of the batch which is same as the batch_size of the data returned by the TorchText BucketIterator\n",
        "\t\toutput_size : 2 = (pos, neg)\n",
        "\t\thidden_sie : Size of the hidden_state of the LSTM\n",
        "\t\tvocab_size : Size of the vocabulary containing unique words\n",
        "\t\tembedding_length : Embeddding dimension of GloVe word embeddings\n",
        "\t\tweights : Pre-trained GloVe word_embeddings which we will use to create our word_embedding look-up table \n",
        "\t\t\n",
        "\t\t\"\"\"\n",
        "\t\t\n",
        "\t\tself.batch_size = batch_size\n",
        "\t\tself.output_size = output_size\n",
        "\t\tself.hidden_size = hidden_size\n",
        "\t\tself.vocab_size = vocab_size\n",
        "\t\tself.embedding_length = embedding_length\n",
        "\t\t\n",
        "\t\tself.word_embeddings = nn.Embedding(vocab_size, embedding_length)# Initializing the look-up table.\n",
        "\t\tself.word_embeddings.weight = nn.Parameter(weights, requires_grad=False) # Assigning the look-up table to the pre-trained GloVe word embedding.\n",
        "\t\tself.lstm = nn.LSTM(embedding_length, hidden_size)\n",
        "\t\tself.label = nn.Linear(hidden_size, output_size)\n",
        "\t\t\n",
        "\tdef forward(self, input_sentence, batch_size=None):\n",
        "\t\n",
        "\t\t\"\"\" \n",
        "\t\tParameters\n",
        "\t\t----------\n",
        "\t\tinput_sentence: input_sentence of shape = (batch_size, num_sequences)\n",
        "\t\tbatch_size : default = None. Used only for prediction on a single sentence after training (batch_size = 1)\n",
        "\t\t\n",
        "\t\tReturns\n",
        "\t\t-------\n",
        "\t\tOutput of the linear layer containing logits for positive & negative class which receives its input as the final_hidden_state of the LSTM\n",
        "\t\tfinal_output.shape = (batch_size, output_size)\n",
        "\t\t\n",
        "\t\t\"\"\"\n",
        "\t\t\n",
        "\t\t''' Here we will map all the indexes present in the input sequence to the corresponding word vector using our pre-trained word_embedddins.'''\n",
        "\t\tinput = self.word_embeddings(input_sentence) # embedded input of shape = (batch_size, num_sequences,  embedding_length)\n",
        "\t\tinput = input.permute(1, 0, 2) # input.size() = (num_sequences, batch_size, embedding_length)\n",
        "\t\tif batch_size is None:\n",
        "\t\t\th_0 = Variable(torch.zeros(1, self.batch_size, self.hidden_size).cuda()) # Initial hidden state of the LSTM\n",
        "\t\t\tc_0 = Variable(torch.zeros(1, self.batch_size, self.hidden_size).cuda()) # Initial cell state of the LSTM\n",
        "\t\telse:\n",
        "\t\t\th_0 = Variable(torch.zeros(1, batch_size, self.hidden_size).cuda())\n",
        "\t\t\tc_0 = Variable(torch.zeros(1, batch_size, self.hidden_size).cuda())\n",
        "\t\toutput, (final_hidden_state, final_cell_state) = self.lstm(input, (h_0, c_0))\n",
        "\t\tfinal_output = self.label(final_hidden_state[-1]) # final_hidden_state.size() = (1, batch_size, hidden_size) & final_output.size() = (batch_size, output_size)\n",
        "\t\tfinal_output = F.softmax(final_output, dim=1) #batch_size, output_size)\n",
        "\t\treturn final_output"
      ],
      "execution_count": 7,
      "outputs": []
    },
    {
      "cell_type": "code",
      "metadata": {
        "id": "2Khrr51KyEE7"
      },
      "source": [
        "class BLSTM_Classifier(nn.Module):\n",
        "\tdef __init__(self, batch_size, output_size, hidden_size, sentence_size, vocab_size, embedding_length, weights):\n",
        "\t\tsuper(BLSTM_Classifier, self).__init__()\n",
        "\t\t\n",
        "\t\t\"\"\"\n",
        "\t\tArguments\n",
        "\t\t---------\n",
        "\t\tbatch_size : Size of the batch which is same as the batch_size of the data returned by the TorchText BucketIterator\n",
        "\t\toutput_size : 2 = (pos, neg)\n",
        "\t\thidden_sie : Size of the hidden_state of the LSTM\n",
        "\t\tvocab_size : Size of the vocabulary containing unique words\n",
        "\t\tembedding_length : Embeddding dimension of GloVe word embeddings\n",
        "\t\tweights : Pre-trained GloVe word_embeddings which we will use to create our word_embedding look-up table \n",
        "\t\t\n",
        "\t\t\"\"\"\n",
        "\t\t\n",
        "\t\tself.batch_size = batch_size\n",
        "\t\tself.output_size = output_size\n",
        "\t\tself.hidden_size = hidden_size\n",
        "\t\tself.vocab_size = vocab_size\n",
        "\t\tself.embedding_length = embedding_length\n",
        "\t\tself.sentence_size = sentence_size\n",
        "\t\tself.word_embeddings = nn.Embedding(vocab_size, embedding_length)# Initializing the look-up table.\n",
        "\t\tself.word_embeddings.weight = nn.Parameter(weights, requires_grad=False) # Assigning the look-up table to the pre-trained GloVe word embedding.\n",
        "\t\tself.lstm = nn.LSTM(embedding_length, hidden_size, bidirectional = True)\n",
        "\t\tself.cnn2 = nn.Conv2d(in_channels=1,out_channels=1, kernel_size=3)\n",
        "\t\tself.maxpoold2d = nn.MaxPool2d(kernel_size=2)\n",
        "\t\t#self.label = nn.Linear(hidden_size, output_size)\n",
        "\t\tlinear_size = int((sentence_size - 2)*(hidden_size - 2)/4)\n",
        "\t\tself.label = nn.Linear(linear_size, output_size)\n",
        "  \n",
        "\tdef forward(self, input_sentence, batch_size=None):\n",
        "\t\n",
        "\t\t\"\"\" \n",
        "\t\tParameters\n",
        "\t\t----------\n",
        "\t\tinput_sentence: input_sentence of shape = (batch_size, num_sequences)\n",
        "\t\tbatch_size : default = None. Used only for prediction on a single sentence after training (batch_size = 1)\n",
        "\t\t\n",
        "\t\tReturns\n",
        "\t\t-------\n",
        "\t\tOutput of the linear layer containing logits for positive & negative class which receives its input as the final_hidden_state of the LSTM\n",
        "\t\tfinal_output.shape = (batch_size, output_size)\n",
        "\t\t\n",
        "\t\t\"\"\"\n",
        "\t\t\n",
        "\t\t''' Here we will map all the indexes present in the input sequence to the corresponding word vector using our pre-trained word_embedddins.'''\n",
        "\t\tinput = self.word_embeddings(input_sentence) # embedded input of shape = (batch_size, num_sequences,  embedding_length)\n",
        "\t\tinput = input.permute(1, 0, 2) # input.size() = (num_sequences, batch_size, embedding_length)\n",
        "\n",
        "\t\tif batch_size is None:\n",
        "\t\t\tbatch_size = self.batch_size\n",
        "\t\t\th_0 = Variable(torch.zeros(1, self.batch_size, self.hidden_size).cuda()) # Initial hidden state of the LSTM\n",
        "\t\t\tc_0 = Variable(torch.zeros(1, self.batch_size, self.hidden_size).cuda()) # Initial cell state of the LSTM\n",
        "\t\telse:\n",
        "\t\t\th_0 = Variable(torch.zeros(1, batch_size, self.hidden_size).cuda())\n",
        "\t\t\tc_0 = Variable(torch.zeros(1, batch_size, self.hidden_size).cuda())\n",
        "\t\toutput, (final_hidden_state, final_cell_state) = self.lstm(input)\n",
        "\t\tout_for = output[:,:,:self.hidden_size] #Extract output of forward\n",
        "\t\tout_back = output[:,:,self.hidden_size:] #Extract output of backward\n",
        "\t\tout = out_for + out_back #Element-wise addition\n",
        "\t\tout = out.permute(1, 0, 2) # out= (batchsize, num_seq , hidden_units) from (num_seq, batchsize,hidden_units)\n",
        "\t\tout = out.view(batch_size,1,out.size()[1],self.hidden_size)\n",
        "\t\tout = self.cnn2(out)\n",
        "\t\tout = self.maxpoold2d(out)\n",
        "\t\tout = out.view(batch_size, -1)\n",
        "\t\tfinal_output = self.label(out) \n",
        "\t\tfinal_output = F.softmax(final_output, dim=1) #(batch_size, output_size)\n",
        "\t\treturn final_output"
      ],
      "execution_count": 8,
      "outputs": []
    },
    {
      "cell_type": "code",
      "metadata": {
        "colab": {
          "base_uri": "https://localhost:8080/"
        },
        "id": "EUoy3ekqct5P",
        "outputId": "618fe2c2-b3c3-45fe-8648-d769f7667ee9"
      },
      "source": [
        "\"\"\"\n",
        "#Troubleshoot Code\n",
        "model = BLSTM_Classifier(batch_size, output_size, hidden_size, 40, vocab_size, embedding_length, word_embeddings)\n",
        "for batch in train_iter:\n",
        "  text = batch.text[0]\n",
        "  if torch.cuda.is_available():\n",
        "    text = text.cuda()\n",
        "  print(text.size())\n",
        "  model.cuda()\n",
        "  prediction = model.forward(text)\n",
        "  print(prediction.size())\n",
        "  #print(prediction)\n",
        "  break\n",
        "\n",
        "\"\"\"\n",
        "\n"
      ],
      "execution_count": 103,
      "outputs": [
        {
          "output_type": "stream",
          "text": [
            "torch.Size([32, 40])\n",
            "torch.Size([32, 2])\n"
          ],
          "name": "stdout"
        }
      ]
    },
    {
      "cell_type": "code",
      "metadata": {
        "id": "BHNdHTE320dv"
      },
      "source": [
        "\"\"\"\n",
        "x = torch.rand([5, 3, 4])\n",
        "print(x)\n",
        "print(x.size())\n",
        "#print(x[-1])\n",
        "#x = x[-1].view(1,5,10)\n",
        "y1 = x[:,:,:2]\n",
        "y2 = x[:,:,2:]\n",
        "y = y1 + y2\n",
        "print(y)\n",
        "print(y.size())\n",
        "\n",
        "y.\n",
        "\"\"\""
      ],
      "execution_count": null,
      "outputs": []
    },
    {
      "cell_type": "code",
      "metadata": {
        "id": "yhRKqTJFaefQ"
      },
      "source": [
        "\n",
        "class LSTM_MultiLayer_Classifier(nn.Module):\n",
        "\tdef __init__(self, batch_size, output_size, hidden_size, layer_size, vocab_size, embedding_length, weights):\n",
        "\t\tsuper(LSTM_MultiLayer_Classifier, self).__init__()\n",
        "\t\t\n",
        "\t\t\"\"\"\n",
        "\t\tArguments\n",
        "\t\t---------\n",
        "\t\tbatch_size : Size of the batch which is same as the batch_size of the data returned by the TorchText BucketIterator\n",
        "\t\toutput_size : 2 = (pos, neg)\n",
        "\t\thidden_sie : Size of the hidden_state of the LSTM\n",
        "\t\tvocab_size : Size of the vocabulary containing unique words\n",
        "\t\tembedding_length : Embeddding dimension of GloVe word embeddings\n",
        "\t\tweights : Pre-trained GloVe word_embeddings which we will use to create our word_embedding look-up table \n",
        "\t\t\n",
        "\t\t\"\"\"\n",
        "\t\t\n",
        "\t\tself.batch_size = batch_size\n",
        "\t\tself.output_size = output_size\n",
        "\t\tself.hidden_size = hidden_size\n",
        "\t\tself.layer_size = layer_size\n",
        "\t\tself.vocab_size = vocab_size\n",
        "\t\tself.embedding_length = embedding_length\n",
        "\t\t\n",
        "\t\tself.word_embeddings = nn.Embedding(vocab_size, embedding_length)# Initializing the look-up table.\n",
        "\t\tself.word_embeddings.weight = nn.Parameter(weights, requires_grad=False) # Assigning the look-up table to the pre-trained GloVe word embedding.\n",
        "\t\tself.lstm = nn.LSTM(embedding_length, hidden_size, num_layers = layer_size)\n",
        "\t\tself.label = nn.Linear(hidden_size, output_size)\n",
        "\t\t\n",
        "\tdef forward(self, input_sentence, batch_size=None):\n",
        "\t\n",
        "\t\t\"\"\" \n",
        "\t\tParameters\n",
        "\t\t----------\n",
        "\t\tinput_sentence: input_sentence of shape = (batch_size, num_sequences)\n",
        "\t\tbatch_size : default = None. Used only for prediction on a single sentence after training (batch_size = 1)\n",
        "\t\t\n",
        "\t\tReturns\n",
        "\t\t-------\n",
        "\t\tOutput of the linear layer containing logits for positive & negative class which receives its input as the final_hidden_state of the LSTM\n",
        "\t\tfinal_output.shape = (batch_size, output_size)\n",
        "\t\t\n",
        "\t\t\"\"\"\n",
        "\t\t\n",
        "\t\t''' Here we will map all the indexes present in the input sequence to the corresponding word vector using our pre-trained word_embedddins.'''\n",
        "\t\tinput = self.word_embeddings(input_sentence) # embedded input of shape = (batch_size, num_sequences,  embedding_length)\n",
        "\t\tinput = input.permute(1, 0, 2) # input.size() = (num_sequences, batch_size, embedding_length)\n",
        "\t\tif batch_size is None:\n",
        "\t\t\th_0 = Variable(torch.zeros(self.layer_size, self.batch_size, self.hidden_size).cuda()) # Initial hidden state of the LSTM\n",
        "\t\t\tc_0 = Variable(torch.zeros(self.layer_size, self.batch_size, self.hidden_size).cuda()) # Initial cell state of the LSTM\n",
        "\t\telse:\n",
        "\t\t\th_0 = Variable(torch.zeros(self.layer_size, batch_size, self.hidden_size).cuda())\n",
        "\t\t\tc_0 = Variable(torch.zeros(self.layer_size, batch_size, self.hidden_size).cuda())\n",
        "\t\toutput, (final_hidden_state, final_cell_state) = self.lstm(input, (h_0, c_0))\n",
        "\t\tfinal_output = self.label(final_hidden_state[-1]) # final_hidden_state.size() = (1, batch_size, hidden_size) & final_output.size() = (batch_size, output_size)\n",
        "\t\tfinal_output = F.softmax(final_output, dim=1) #batch_size, output_size)\n",
        "\t\treturn final_output"
      ],
      "execution_count": 9,
      "outputs": []
    },
    {
      "cell_type": "code",
      "metadata": {
        "id": "fJk-RPKzjX6Y"
      },
      "source": [
        "#Functions\n",
        "\n",
        "def clip_gradient(model, clip_value):\n",
        "    params = list(filter(lambda p: p.grad is not None, model.parameters()))\n",
        "    for p in params:\n",
        "        p.grad.data.clamp_(-clip_value, clip_value)\n",
        "    \n",
        "def train_model(model, train_iter, epoch):\n",
        "    total_epoch_loss = 0\n",
        "    total_epoch_acc = 0\n",
        "    model.cuda()\n",
        "    optim = torch.optim.Adam(filter(lambda p: p.requires_grad, model.parameters()))\n",
        "    steps = 0\n",
        "    model.train()\n",
        "    for idx, batch in enumerate(train_iter):\n",
        "        text = batch.text[0] #0 is words , 1 is the length of sequence pre-padding, #batch_size x sequence length (40)\n",
        "        target = batch.label #batch_size\n",
        "        target = torch.autograd.Variable(target).long() #Convert to Int 0 and 1 (from float)\n",
        "        if torch.cuda.is_available():\n",
        "            text = text.cuda()\n",
        "            target = target.cuda()\n",
        "        if (text.size()[0] is not batch_size):# One of the batch returned by BucketIterator has length different than 32.\n",
        "            continue\n",
        "        optim.zero_grad()\n",
        "        prediction = model(text)\n",
        "        loss = loss_fn(prediction, target)\n",
        "        num_corrects = (torch.max(prediction, 1)[1].view(target.size()).data == target.data).float().sum()\n",
        "        acc = 100.0 * num_corrects/len(batch)\n",
        "        loss.backward()\n",
        "        clip_gradient(model, 1e-1)\n",
        "        optim.step()\n",
        "        steps += 1\n",
        "        \n",
        "        #if steps % 100 == 0:\n",
        "        #    print (f'Epoch: {epoch+1}, Idx: {idx+1}, Training Loss: {loss.item():.4f}, Training Accuracy: {acc.item(): .2f}%')\n",
        "        \n",
        "        total_epoch_loss += loss.item()\n",
        "        total_epoch_acc += acc.item()\n",
        "        \n",
        "    return total_epoch_loss/len(train_iter), total_epoch_acc/len(train_iter)\n",
        "\n",
        "def eval_model(model, val_iter):\n",
        "    total_epoch_loss = 0\n",
        "    total_epoch_acc = 0\n",
        "    model.eval()\n",
        "    total_target = torch.zeros(0).cuda()\n",
        "    total_pred = torch.zeros(0).cuda()\n",
        "    with torch.no_grad():\n",
        "        for idx, batch in enumerate(val_iter):\n",
        "            text = batch.text[0]\n",
        "            if (text.size()[0] is not batch_size):\n",
        "                continue\n",
        "            target = batch.label\n",
        "            target = torch.autograd.Variable(target).long()\n",
        "            if torch.cuda.is_available():\n",
        "                text = text.cuda()\n",
        "                target = target.cuda()\n",
        "            prediction = model(text)\n",
        "            loss = loss_fn(prediction, target)\n",
        "            pred = torch.max(prediction, 1)[1].view(target.size())\n",
        "            total_pred = torch.cat((total_pred,pred.data))\n",
        "            total_target = torch.cat((total_target,target.data ))\n",
        "            num_corrects = (pred.data == target.data).sum()\n",
        "            acc = 100.0 * num_corrects/len(batch)\n",
        "            total_epoch_loss += loss.item()\n",
        "            total_epoch_acc += acc.item()\n",
        "        precision_score_eval = metrics.precision_score(total_target.cpu(), total_pred.cpu())\n",
        "        recall_score_eval = metrics.recall_score(total_target.cpu(), total_pred.cpu())\n",
        "\n",
        "    return total_epoch_loss/len(val_iter), total_epoch_acc/len(val_iter), precision_score_eval, recall_score_eval"
      ],
      "execution_count": 10,
      "outputs": []
    },
    {
      "cell_type": "code",
      "metadata": {
        "colab": {
          "base_uri": "https://localhost:8080/",
          "height": 103
        },
        "id": "NSIDZej0HH9L",
        "outputId": "1e81629d-d356-4941-f082-30994f9d9762"
      },
      "source": [
        "\"\"\"\n",
        "total_target = torch.zeros(0).cuda()\n",
        "total_pred = torch.zeros(0).cuda()\n",
        "i = 0\n",
        "for x in valid_iter:\n",
        "  prediction = model(x.text[0])\n",
        "  target = x.label\n",
        "  target = torch.autograd.Variable(target).long()\n",
        "  pred = torch.max(prediction, 1)[1].view(target.size())\n",
        "  total_pred = torch.cat((total_pred,pred.data))\n",
        "  total_target = torch.cat((total_target,target.data ))\n",
        "  if i == 2:\n",
        "    break\n",
        "  i = i + 1\n",
        "\n",
        "print(total_target)\n",
        "print(total_pred)\n",
        "print(metrics.precision_score(total_target.cpu(), total_pred.cpu()))  \n",
        "print(total_pred.size())\n",
        "\n",
        "\"\"\""
      ],
      "execution_count": 25,
      "outputs": [
        {
          "output_type": "execute_result",
          "data": {
            "application/vnd.google.colaboratory.intrinsic+json": {
              "type": "string"
            },
            "text/plain": [
              "'\\ntotal_target = torch.zeros(0).cuda()\\ntotal_pred = torch.zeros(0).cuda()\\ni = 0\\nfor x in valid_iter:\\n  prediction = model(x.text[0])\\n  target = x.label\\n  target = torch.autograd.Variable(target).long()\\n  pred = torch.max(prediction, 1)[1].view(target.size())\\n  total_pred = torch.cat((total_pred,pred.data))\\n  total_target = torch.cat((total_target,target.data ))\\n  if i == 2:\\n    break\\n  i = i + 1\\n\\nprint(total_target)\\nprint(total_pred)\\nprint(metrics.precision_score(total_target.cpu(), total_pred.cpu()))  \\nprint(total_pred.size())\\n\\n'"
            ]
          },
          "metadata": {
            "tags": []
          },
          "execution_count": 25
        }
      ]
    },
    {
      "cell_type": "markdown",
      "metadata": {
        "id": "wBPN_Wdljuuk"
      },
      "source": [
        "## Training and Evaluation"
      ]
    },
    {
      "cell_type": "code",
      "metadata": {
        "colab": {
          "base_uri": "https://localhost:8080/"
        },
        "id": "R97HJTgrwzw5",
        "outputId": "7ed126bf-6df5-4f87-b430-be8dbf3bff8f"
      },
      "source": [
        "#model = LSTMClassifier(batch_size, output_size, hidden_size, vocab_size, embedding_length, word_embeddings)\n",
        "#model = LSTM_MultiLayer_Classifier(batch_size, output_size, hidden_size, layer_size, vocab_size, embedding_length, word_embeddings)\n",
        "model = BLSTM_Classifier(batch_size, output_size, 122, sentence_size, vocab_size, embedding_length, word_embeddings)\n",
        "\n",
        "loss_fn = F.cross_entropy\n",
        "train_loss_all = []\n",
        "train_acc_all = []\n",
        "val_loss_all = []\n",
        "val_acc_all = []\n",
        "for epoch in range(20):\n",
        "    train_loss, train_acc = train_model(model, train_iter, epoch)\n",
        "    val_loss, val_acc, val_prec, val_recall = eval_model(model, valid_iter)\n",
        "    train_loss_all.append(train_loss)\n",
        "    train_acc_all.append(train_acc)\n",
        "    val_loss_all.append(val_loss)\n",
        "    val_acc_all.append(val_acc)\n",
        "    print(f'Epoch: {epoch+1:02}, Train Loss: {train_loss:.3f}, Train Acc: {train_acc:.2f}%, Val. Loss: {val_loss:3f}, Val. Acc: {val_acc:.2f}%, Val. Prec: {val_prec:3f}, Val. Recall: {val_recall:3f}')\n",
        "#eval_model(model, test_iter)\n",
        "#test_loss, test_acc, test_prec, test_recall  = eval_model(model, test_iter)\n",
        "#print(f'Test Loss: {test_loss:.3f}, Test Acc: {test_acc:.2f}%, , Test Recall: {test_recall:.2f}%, , Test Precision: {test_prec:.2f}%')\n"
      ],
      "execution_count": 52,
      "outputs": [
        {
          "output_type": "stream",
          "text": [
            "/usr/local/lib/python3.7/dist-packages/torchtext/data/field.py:322: UserWarning: volatile was removed and now has no effect. Use `with torch.no_grad():` instead.\n",
            "  return Variable(arr, volatile=not train)\n",
            "/usr/local/lib/python3.7/dist-packages/torchtext/data/field.py:321: UserWarning: volatile was removed and now has no effect. Use `with torch.no_grad():` instead.\n",
            "  return Variable(arr, volatile=not train), lengths\n"
          ],
          "name": "stderr"
        },
        {
          "output_type": "stream",
          "text": [
            "Epoch: 01, Train Loss: 0.535, Train Acc: 75.80%, Val. Loss: 0.486683, Val. Acc: 79.95%, Val. Prec: 0.805426, Val. Recall: 0.742241\n",
            "Epoch: 02, Train Loss: 0.457, Train Acc: 84.84%, Val. Loss: 0.461476, Val. Acc: 82.85%, Val. Prec: 0.838113, Val. Recall: 0.781034\n",
            "Epoch: 03, Train Loss: 0.423, Train Acc: 88.45%, Val. Loss: 0.456828, Val. Acc: 83.11%, Val. Prec: 0.842937, Val. Recall: 0.781897\n",
            "Epoch: 04, Train Loss: 0.398, Train Acc: 91.20%, Val. Loss: 0.456595, Val. Acc: 83.00%, Val. Prec: 0.798054, Val. Recall: 0.848276\n",
            "Epoch: 05, Train Loss: 0.379, Train Acc: 93.30%, Val. Loss: 0.453868, Val. Acc: 83.74%, Val. Prec: 0.837959, Val. Recall: 0.806897\n",
            "Epoch: 06, Train Loss: 0.366, Train Acc: 94.58%, Val. Loss: 0.458711, Val. Acc: 83.15%, Val. Prec: 0.872105, Val. Recall: 0.746552\n",
            "Epoch: 07, Train Loss: 0.357, Train Acc: 95.52%, Val. Loss: 0.468058, Val. Acc: 82.40%, Val. Prec: 0.893757, Val. Recall: 0.703448\n",
            "Epoch: 08, Train Loss: 0.350, Train Acc: 96.15%, Val. Loss: 0.451988, Val. Acc: 83.63%, Val. Prec: 0.826957, Val. Recall: 0.819828\n",
            "Epoch: 09, Train Loss: 0.347, Train Acc: 96.47%, Val. Loss: 0.452105, Val. Acc: 83.74%, Val. Prec: 0.835556, Val. Recall: 0.810345\n",
            "Epoch: 10, Train Loss: 0.345, Train Acc: 96.66%, Val. Loss: 0.450011, Val. Acc: 84.00%, Val. Prec: 0.825085, Val. Recall: 0.833621\n",
            "Epoch: 11, Train Loss: 0.342, Train Acc: 96.98%, Val. Loss: 0.453219, Val. Acc: 83.59%, Val. Prec: 0.866341, Val. Recall: 0.765517\n",
            "Epoch: 12, Train Loss: 0.341, Train Acc: 96.99%, Val. Loss: 0.450688, Val. Acc: 84.04%, Val. Prec: 0.839715, Val. Recall: 0.812931\n",
            "Epoch: 13, Train Loss: 0.339, Train Acc: 97.20%, Val. Loss: 0.447638, Val. Acc: 84.67%, Val. Prec: 0.870722, Val. Recall: 0.789655\n",
            "Epoch: 14, Train Loss: 0.339, Train Acc: 97.21%, Val. Loss: 0.445842, Val. Acc: 84.90%, Val. Prec: 0.861878, Val. Recall: 0.806897\n",
            "Epoch: 15, Train Loss: 0.337, Train Acc: 97.46%, Val. Loss: 0.445529, Val. Acc: 84.93%, Val. Prec: 0.850401, Val. Recall: 0.823276\n",
            "Epoch: 16, Train Loss: 0.337, Train Acc: 97.44%, Val. Loss: 0.451779, Val. Acc: 84.15%, Val. Prec: 0.859962, Val. Recall: 0.788793\n",
            "Epoch: 17, Train Loss: 0.337, Train Acc: 97.45%, Val. Loss: 0.451735, Val. Acc: 84.30%, Val. Prec: 0.861842, Val. Recall: 0.790517\n",
            "Epoch: 18, Train Loss: 0.336, Train Acc: 97.49%, Val. Loss: 0.452178, Val. Acc: 84.04%, Val. Prec: 0.854884, Val. Recall: 0.792241\n",
            "Epoch: 19, Train Loss: 0.334, Train Acc: 97.67%, Val. Loss: 0.450021, Val. Acc: 84.56%, Val. Prec: 0.836947, Val. Recall: 0.831897\n",
            "Epoch: 20, Train Loss: 0.334, Train Acc: 97.70%, Val. Loss: 0.448598, Val. Acc: 84.60%, Val. Prec: 0.870476, Val. Recall: 0.787931\n"
          ],
          "name": "stdout"
        }
      ]
    },
    {
      "cell_type": "code",
      "metadata": {
        "colab": {
          "base_uri": "https://localhost:8080/",
          "height": 279
        },
        "id": "se5_ldQYz1RA",
        "outputId": "4c463ea2-aacd-43a3-d4a1-b548cb53bd9c"
      },
      "source": [
        "import matplotlib.pyplot as plt\n",
        "plt.plot(train_loss_all, label='Train')\n",
        "plt.plot(val_loss_all, label='Validation')\n",
        "plt.ylabel('Loss')\n",
        "plt.xlabel('Epoch')\n",
        "plt.legend()\n",
        "plt.show() \n"
      ],
      "execution_count": 53,
      "outputs": [
        {
          "output_type": "display_data",
          "data": {
            "image/png": "[encoded data removed]",
            "text/plain": [
              "<Figure size 432x288 with 1 Axes>"
            ]
          },
          "metadata": {
            "tags": [],
            "needs_background": "light"
          }
        }
      ]
    },
    {
      "cell_type": "code",
      "metadata": {
        "colab": {
          "base_uri": "https://localhost:8080/",
          "height": 279
        },
        "id": "dPn2h7Lh0zZg",
        "outputId": "57863fbd-16fe-425b-a5ae-957dd02956f0"
      },
      "source": [
        "plt.plot(train_acc_all, label='Train')\n",
        "plt.plot(val_acc_all, label='Validation')\n",
        "plt.ylabel('Accuracy')\n",
        "plt.xlabel('Epoch')\n",
        "plt.legend()\n",
        "plt.show() \n"
      ],
      "execution_count": 54,
      "outputs": [
        {
          "output_type": "display_data",
          "data": {
            "image/png": "[encoded data removed]",
            "text/plain": [
              "<Figure size 432x288 with 1 Axes>"
            ]
          },
          "metadata": {
            "tags": [],
            "needs_background": "light"
          }
        }
      ]
    },
    {
      "cell_type": "code",
      "metadata": {
        "colab": {
          "base_uri": "https://localhost:8080/"
        },
        "id": "Ff1_k31q6xg5",
        "outputId": "16f94d43-9079-4559-a331-de64d51d78cd"
      },
      "source": [
        "def predict_one(test_sen):\n",
        "  test_sen = TEXT.preprocess(test_sen)\n",
        "  y = [TEXT.vocab.stoi[x] for x in test_sen]\n",
        "  test_sen = [np.pad(y, (0,sentence_size-len(y)), 'constant', constant_values = 1)]\n",
        "  #test_sen = [[TEXT.vocab.stoi[x] for x in test_sen]]\n",
        "  test_sen = np.asarray(test_sen)\n",
        "  #test_sen = np.pad(test_sen, (0,sentence_size-len(test_sen)), 'constant', constant_values = 1)\n",
        "  test_sen = torch.LongTensor(test_sen)\n",
        "  test_tensor = Variable(test_sen) #pad to 40\n",
        "  test_tensor = test_tensor.cuda()\n",
        "  model.eval()\n",
        "  output = model(test_tensor, 1)\n",
        "  out = F.softmax(output, 1)\n",
        "  #print(output)\n",
        "  if (torch.argmax(out[0]) == 1):\n",
        "      print (\"Sentiment: Positive\")\n",
        "  else:\n",
        "      print (\"Sentiment: Negative\")\n",
        "\n",
        "''' Let us now predict the sentiment on a single sentence just for the testing purpose. '''\n",
        "test_sen1 = \"Alien from another planet\"\n",
        "test_sen2 = \"Protest was held in the city\"\n",
        "\n",
        "\n",
        "predict_one(test_sen1)\n",
        "predict_one(test_sen2)\n",
        "\n",
        "\n",
        "\n",
        "\n"
      ],
      "execution_count": 51,
      "outputs": [
        {
          "output_type": "stream",
          "text": [
            "Sentiment: Positive\n",
            "Sentiment: Negative\n"
          ],
          "name": "stdout"
        }
      ]
    },
    {
      "cell_type": "code",
      "metadata": {
        "id": "TdzUyHUG7V_i"
      },
      "source": [
        "x = np.array([123,3,4])"
      ],
      "execution_count": 21,
      "outputs": []
    },
    {
      "cell_type": "code",
      "metadata": {
        "colab": {
          "base_uri": "https://localhost:8080/"
        },
        "id": "l__zT4vZSLYy",
        "outputId": "8bd8a808-386f-4c7f-c475-953d575e39a1"
      },
      "source": [
        "np.pad(x, (0,8-len(x)), 'constant', constant_values = 1)"
      ],
      "execution_count": 27,
      "outputs": [
        {
          "output_type": "execute_result",
          "data": {
            "text/plain": [
              "array([123,   3,   4,   1,   1,   1,   1,   1])"
            ]
          },
          "metadata": {
            "tags": []
          },
          "execution_count": 27
        }
      ]
    },
    {
      "cell_type": "code",
      "metadata": {
        "id": "ZMwXhArWSOqc"
      },
      "source": [
        ""
      ],
      "execution_count": null,
      "outputs": []
    }
  ]
}